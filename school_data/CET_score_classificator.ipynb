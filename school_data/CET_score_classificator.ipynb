{
 "cells": [
  {
   "cell_type": "markdown",
   "metadata": {},
   "source": [
    "# Dutch primary school CET score\n",
    " \n",
    "## Overview\n",
    "\n",
    "In The Netherlands children start going to school when they turn 4. So now I need to choose the best school for my toddler. I think it should meet a large number of charactheristic. It should be able to give my child a worthy knowlegde, so that he gets a good score in the final exam to continue his education in a good secondary school.\n",
    "\n",
    "I found that Dutch Ministry of education, culture and science has opened some of their data. I collected the data from https://duo.nl/open_onderwijsdata/databestanden/ into a dataset and now I want to analyse what I have there. Ideally I would also want to find if it is possible to calcuate the quality of the education which school can give to students based on the data we have or if we need some extra data to define this.\n",
    "\n",
    "One of the main factors that could define a quality of education is the final exams score. I will analyse it first.\n",
    "\n",
    "First of all I want to know what does CET score depend on and how it is defined by other factors. To solve this problem I'm going to read the dataset from the file Score.csv and get data from the latest year we have(2018). I will clean it, will make a new feature which would mean the level of the average CET score for each school.\n",
    "\n",
    "As a result I will try to build a classifier for those CET score levels to be able to predict how \"good\" the exam result will be depending on other parameters we have. To do that I will use a number of classification algorithms and pick the best one."
   ]
  },
  {
   "cell_type": "markdown",
   "metadata": {},
   "source": [
    "## Data preparation\n",
    "\n",
    "Let's start with reading the dataset from the file 'Score.csv'. We'll read data for only one year (for example, the year of 2018):"
   ]
  },
  {
   "cell_type": "code",
   "execution_count": 66,
   "metadata": {},
   "outputs": [
    {
     "name": "stdout",
     "output_type": "stream",
     "text": [
      "(6286, 33)\n",
      "Index(['SCHOOL_ID', 'DATUM', 'INSTELLINGSNAAM_VESTIGING', 'POSTCODE_VESTIGING',\n",
      "       'PLAATSNAAM', 'GEMEENTENAAM', 'PROVINCIE', 'SOORT_PO',\n",
      "       'DENOMINATIE_VESTIGING', 'EXAMEN', 'EXAMEN_AANTAL', 'EXAMEN_GEM',\n",
      "       'REKENEN_LAGER1F', 'REKENEN_1F', 'REKENEN_1S', 'REKENEN_2F',\n",
      "       'LV_LAGER1F', 'LV_1F', 'LV_2F', 'TV_LAGER1F', 'TV_1F', 'TV_2F', 'VSO',\n",
      "       'PRO', 'VMBO', 'VMBO_HAVO', 'HAVO', 'HAVO_VWO', 'VWO',\n",
      "       'ADVIES_NIET_MOGELIJK', 'TOTAAL_ADVIES', 'LJ8', 'ZIT'],\n",
      "      dtype='object')\n"
     ]
    },
    {
     "data": {
      "text/html": [
       "<div>\n",
       "<style scoped>\n",
       "    .dataframe tbody tr th:only-of-type {\n",
       "        vertical-align: middle;\n",
       "    }\n",
       "\n",
       "    .dataframe tbody tr th {\n",
       "        vertical-align: top;\n",
       "    }\n",
       "\n",
       "    .dataframe thead th {\n",
       "        text-align: right;\n",
       "    }\n",
       "</style>\n",
       "<table border=\"1\" class=\"dataframe\">\n",
       "  <thead>\n",
       "    <tr style=\"text-align: right;\">\n",
       "      <th></th>\n",
       "      <th>SCHOOL_ID</th>\n",
       "      <th>DATUM</th>\n",
       "      <th>INSTELLINGSNAAM_VESTIGING</th>\n",
       "      <th>POSTCODE_VESTIGING</th>\n",
       "      <th>PLAATSNAAM</th>\n",
       "      <th>GEMEENTENAAM</th>\n",
       "      <th>PROVINCIE</th>\n",
       "      <th>SOORT_PO</th>\n",
       "      <th>DENOMINATIE_VESTIGING</th>\n",
       "      <th>EXAMEN</th>\n",
       "      <th>...</th>\n",
       "      <th>PRO</th>\n",
       "      <th>VMBO</th>\n",
       "      <th>VMBO_HAVO</th>\n",
       "      <th>HAVO</th>\n",
       "      <th>HAVO_VWO</th>\n",
       "      <th>VWO</th>\n",
       "      <th>ADVIES_NIET_MOGELIJK</th>\n",
       "      <th>TOTAAL_ADVIES</th>\n",
       "      <th>LJ8</th>\n",
       "      <th>ZIT</th>\n",
       "    </tr>\n",
       "  </thead>\n",
       "  <tbody>\n",
       "    <tr>\n",
       "      <th>18739</th>\n",
       "      <td>000AP_2018</td>\n",
       "      <td>2018</td>\n",
       "      <td>De Schanskorf</td>\n",
       "      <td>2715BT</td>\n",
       "      <td>ZOETERMEER</td>\n",
       "      <td>Zoetermeer</td>\n",
       "      <td>Zuid-Holland</td>\n",
       "      <td>Bo</td>\n",
       "      <td>Gereformeerd vrijgemaakt</td>\n",
       "      <td>CET</td>\n",
       "      <td>...</td>\n",
       "      <td>0</td>\n",
       "      <td>0</td>\n",
       "      <td>2</td>\n",
       "      <td>4</td>\n",
       "      <td>0</td>\n",
       "      <td>3</td>\n",
       "      <td>0</td>\n",
       "      <td>11</td>\n",
       "      <td>11</td>\n",
       "      <td>1</td>\n",
       "    </tr>\n",
       "    <tr>\n",
       "      <th>18740</th>\n",
       "      <td>000AR_2018</td>\n",
       "      <td>2018</td>\n",
       "      <td>BS \"De Maasparel\"</td>\n",
       "      <td>6107AW</td>\n",
       "      <td>STEVENSWEERT</td>\n",
       "      <td>Maasgouw</td>\n",
       "      <td>Limburg</td>\n",
       "      <td>Bo</td>\n",
       "      <td>Rooms-Katholiek</td>\n",
       "      <td>CET</td>\n",
       "      <td>...</td>\n",
       "      <td>0</td>\n",
       "      <td>1</td>\n",
       "      <td>0</td>\n",
       "      <td>4</td>\n",
       "      <td>0</td>\n",
       "      <td>9</td>\n",
       "      <td>0</td>\n",
       "      <td>17</td>\n",
       "      <td>17</td>\n",
       "      <td>1</td>\n",
       "    </tr>\n",
       "    <tr>\n",
       "      <th>18741</th>\n",
       "      <td>000AV_2018</td>\n",
       "      <td>2018</td>\n",
       "      <td>De Morgenster</td>\n",
       "      <td>3201CN</td>\n",
       "      <td>SPIJKENISSE</td>\n",
       "      <td>Nissewaard</td>\n",
       "      <td>Zuid-Holland</td>\n",
       "      <td>Bo</td>\n",
       "      <td>Gereformeerd vrijgemaakt</td>\n",
       "      <td>CET</td>\n",
       "      <td>...</td>\n",
       "      <td>0</td>\n",
       "      <td>0</td>\n",
       "      <td>3</td>\n",
       "      <td>1</td>\n",
       "      <td>3</td>\n",
       "      <td>2</td>\n",
       "      <td>0</td>\n",
       "      <td>12</td>\n",
       "      <td>12</td>\n",
       "      <td>1</td>\n",
       "    </tr>\n",
       "    <tr>\n",
       "      <th>18742</th>\n",
       "      <td>000AZ_2018</td>\n",
       "      <td>2018</td>\n",
       "      <td>De Stapsteen</td>\n",
       "      <td>2971AR</td>\n",
       "      <td>BLESKENSGRAAF CA</td>\n",
       "      <td>Molenwaard</td>\n",
       "      <td>Zuid-Holland</td>\n",
       "      <td>Bo</td>\n",
       "      <td>Openbaar</td>\n",
       "      <td>IEP</td>\n",
       "      <td>...</td>\n",
       "      <td>2</td>\n",
       "      <td>1</td>\n",
       "      <td>5</td>\n",
       "      <td>3</td>\n",
       "      <td>0</td>\n",
       "      <td>3</td>\n",
       "      <td>0</td>\n",
       "      <td>15</td>\n",
       "      <td>14</td>\n",
       "      <td>2</td>\n",
       "    </tr>\n",
       "    <tr>\n",
       "      <th>18743</th>\n",
       "      <td>000BB_2018</td>\n",
       "      <td>2018</td>\n",
       "      <td>Obs Letterwies</td>\n",
       "      <td>9944AR</td>\n",
       "      <td>NIEUWOLDA</td>\n",
       "      <td>Oldambt</td>\n",
       "      <td>Groningen</td>\n",
       "      <td>Bo</td>\n",
       "      <td>Openbaar</td>\n",
       "      <td>CET</td>\n",
       "      <td>...</td>\n",
       "      <td>0</td>\n",
       "      <td>5</td>\n",
       "      <td>2</td>\n",
       "      <td>4</td>\n",
       "      <td>1</td>\n",
       "      <td>2</td>\n",
       "      <td>0</td>\n",
       "      <td>21</td>\n",
       "      <td>11</td>\n",
       "      <td>1</td>\n",
       "    </tr>\n",
       "  </tbody>\n",
       "</table>\n",
       "<p>5 rows × 33 columns</p>\n",
       "</div>"
      ],
      "text/plain": [
       "        SCHOOL_ID  DATUM INSTELLINGSNAAM_VESTIGING POSTCODE_VESTIGING  \\\n",
       "18739  000AP_2018   2018             De Schanskorf             2715BT   \n",
       "18740  000AR_2018   2018         BS \"De Maasparel\"             6107AW   \n",
       "18741  000AV_2018   2018             De Morgenster             3201CN   \n",
       "18742  000AZ_2018   2018              De Stapsteen             2971AR   \n",
       "18743  000BB_2018   2018            Obs Letterwies             9944AR   \n",
       "\n",
       "             PLAATSNAAM GEMEENTENAAM     PROVINCIE SOORT_PO  \\\n",
       "18739        ZOETERMEER   Zoetermeer  Zuid-Holland       Bo   \n",
       "18740      STEVENSWEERT     Maasgouw       Limburg       Bo   \n",
       "18741       SPIJKENISSE   Nissewaard  Zuid-Holland       Bo   \n",
       "18742  BLESKENSGRAAF CA   Molenwaard  Zuid-Holland       Bo   \n",
       "18743         NIEUWOLDA      Oldambt     Groningen       Bo   \n",
       "\n",
       "          DENOMINATIE_VESTIGING EXAMEN  ...  PRO  VMBO  VMBO_HAVO  HAVO  \\\n",
       "18739  Gereformeerd vrijgemaakt    CET  ...    0     0          2     4   \n",
       "18740           Rooms-Katholiek    CET  ...    0     1          0     4   \n",
       "18741  Gereformeerd vrijgemaakt    CET  ...    0     0          3     1   \n",
       "18742                  Openbaar    IEP  ...    2     1          5     3   \n",
       "18743                  Openbaar    CET  ...    0     5          2     4   \n",
       "\n",
       "       HAVO_VWO  VWO  ADVIES_NIET_MOGELIJK  TOTAAL_ADVIES  LJ8  ZIT  \n",
       "18739         0    3                     0             11   11    1  \n",
       "18740         0    9                     0             17   17    1  \n",
       "18741         3    2                     0             12   12    1  \n",
       "18742         0    3                     0             15   14    2  \n",
       "18743         1    2                     0             21   11    1  \n",
       "\n",
       "[5 rows x 33 columns]"
      ]
     },
     "execution_count": 66,
     "metadata": {},
     "output_type": "execute_result"
    }
   ],
   "source": [
    "import pandas as pd \n",
    "import matplotlib.pyplot as plt\n",
    "import seaborn as sns\n",
    "import numpy as np\n",
    "\n",
    "data_score = pd.read_csv(\"./make_school_data/main/output/Score.csv\", error_bad_lines=False, sep=',', encoding = \"ISO-8859-1\") \n",
    "data_score = data_score[data_score['DATUM'] == 2018]\n",
    "print(data_score.shape)\n",
    "print(data_score.columns)\n",
    "data_score.head()"
   ]
  },
  {
   "cell_type": "markdown",
   "metadata": {},
   "source": [
    "I want to create a new variable which would mean how well students of a particular school take the exam. We have a few exams chosen by schools, let's take a look at them:"
   ]
  },
  {
   "cell_type": "code",
   "execution_count": 67,
   "metadata": {},
   "outputs": [
    {
     "data": {
      "text/plain": [
       "CET       3527\n",
       "IEP       1790\n",
       "ROUTE8     833\n",
       "DIA         83\n",
       "AMN         53\n",
       "Name: EXAMEN, dtype: int64"
      ]
     },
     "execution_count": 67,
     "metadata": {},
     "output_type": "execute_result"
    }
   ],
   "source": [
    "data_score['EXAMEN'].value_counts()"
   ]
  },
  {
   "cell_type": "markdown",
   "metadata": {},
   "source": [
    "I will create a new variable called **SCORE_TYPE** with values 'low' and 'high' depending on the score and on the chosen exam, because the average score is different for different exams:"
   ]
  },
  {
   "cell_type": "code",
   "execution_count": 68,
   "metadata": {},
   "outputs": [],
   "source": [
    "def get_type_score(row): \n",
    "    result = \"Low\"\n",
    "    exam_data = data_score[data_score['EXAMEN'] == row.EXAMEN]\n",
    "    if(row.EXAMEN_GEM < exam_data['EXAMEN_GEM'].median()):\n",
    "        result = \"Low\"\n",
    "    else:\n",
    "        result = \"High\"\n",
    "    return result\n",
    "\n",
    "data_score['SCORE_LEVEL'] =  data_score.apply(lambda row: get_type_score(row), axis = 1)"
   ]
  },
  {
   "cell_type": "code",
   "execution_count": 69,
   "metadata": {},
   "outputs": [
    {
     "name": "stdout",
     "output_type": "stream",
     "text": [
      "High    3146\n",
      "Low     3140\n",
      "Name: SCORE_LEVEL, dtype: int64\n"
     ]
    }
   ],
   "source": [
    "print(data_score['SCORE_LEVEL'].value_counts())"
   ]
  },
  {
   "cell_type": "markdown",
   "metadata": {},
   "source": [
    "Next I want to remove unnecessary columns because some of them are higly correlated (like a few columns which describe an address of a school, we can leave only one of them) and some of them – we just don't need (like **SCHOOL_ID** or **BEVOEGD_GEZAG_NUMMER**), or they mean the same thing as outcome (like the score variable **EXAMEN_GEM**):"
   ]
  },
  {
   "cell_type": "code",
   "execution_count": 70,
   "metadata": {},
   "outputs": [
    {
     "name": "stdout",
     "output_type": "stream",
     "text": [
      "(6286, 34)\n",
      "(6286, 26)\n",
      "Index(['SOORT_PO', 'DENOMINATIE_VESTIGING', 'EXAMEN', 'EXAMEN_AANTAL',\n",
      "       'REKENEN_LAGER1F', 'REKENEN_1F', 'REKENEN_1S', 'REKENEN_2F',\n",
      "       'LV_LAGER1F', 'LV_1F', 'LV_2F', 'TV_LAGER1F', 'TV_1F', 'TV_2F', 'VSO',\n",
      "       'PRO', 'VMBO', 'VMBO_HAVO', 'HAVO', 'HAVO_VWO', 'VWO',\n",
      "       'ADVIES_NIET_MOGELIJK', 'TOTAAL_ADVIES', 'LJ8', 'ZIT', 'SCORE_LEVEL'],\n",
      "      dtype='object')\n"
     ]
    },
    {
     "data": {
      "text/html": [
       "<div>\n",
       "<style scoped>\n",
       "    .dataframe tbody tr th:only-of-type {\n",
       "        vertical-align: middle;\n",
       "    }\n",
       "\n",
       "    .dataframe tbody tr th {\n",
       "        vertical-align: top;\n",
       "    }\n",
       "\n",
       "    .dataframe thead th {\n",
       "        text-align: right;\n",
       "    }\n",
       "</style>\n",
       "<table border=\"1\" class=\"dataframe\">\n",
       "  <thead>\n",
       "    <tr style=\"text-align: right;\">\n",
       "      <th></th>\n",
       "      <th>SOORT_PO</th>\n",
       "      <th>DENOMINATIE_VESTIGING</th>\n",
       "      <th>EXAMEN</th>\n",
       "      <th>EXAMEN_AANTAL</th>\n",
       "      <th>REKENEN_LAGER1F</th>\n",
       "      <th>REKENEN_1F</th>\n",
       "      <th>REKENEN_1S</th>\n",
       "      <th>REKENEN_2F</th>\n",
       "      <th>LV_LAGER1F</th>\n",
       "      <th>LV_1F</th>\n",
       "      <th>...</th>\n",
       "      <th>VMBO</th>\n",
       "      <th>VMBO_HAVO</th>\n",
       "      <th>HAVO</th>\n",
       "      <th>HAVO_VWO</th>\n",
       "      <th>VWO</th>\n",
       "      <th>ADVIES_NIET_MOGELIJK</th>\n",
       "      <th>TOTAAL_ADVIES</th>\n",
       "      <th>LJ8</th>\n",
       "      <th>ZIT</th>\n",
       "      <th>SCORE_LEVEL</th>\n",
       "    </tr>\n",
       "  </thead>\n",
       "  <tbody>\n",
       "    <tr>\n",
       "      <th>18739</th>\n",
       "      <td>Bo</td>\n",
       "      <td>Gereformeerd vrijgemaakt</td>\n",
       "      <td>CET</td>\n",
       "      <td>11</td>\n",
       "      <td>1</td>\n",
       "      <td>5</td>\n",
       "      <td>5</td>\n",
       "      <td>0</td>\n",
       "      <td>0</td>\n",
       "      <td>1</td>\n",
       "      <td>...</td>\n",
       "      <td>0</td>\n",
       "      <td>2</td>\n",
       "      <td>4</td>\n",
       "      <td>0</td>\n",
       "      <td>3</td>\n",
       "      <td>0</td>\n",
       "      <td>11</td>\n",
       "      <td>11</td>\n",
       "      <td>1</td>\n",
       "      <td>High</td>\n",
       "    </tr>\n",
       "    <tr>\n",
       "      <th>18740</th>\n",
       "      <td>Bo</td>\n",
       "      <td>Rooms-Katholiek</td>\n",
       "      <td>CET</td>\n",
       "      <td>17</td>\n",
       "      <td>0</td>\n",
       "      <td>5</td>\n",
       "      <td>12</td>\n",
       "      <td>0</td>\n",
       "      <td>1</td>\n",
       "      <td>1</td>\n",
       "      <td>...</td>\n",
       "      <td>1</td>\n",
       "      <td>0</td>\n",
       "      <td>4</td>\n",
       "      <td>0</td>\n",
       "      <td>9</td>\n",
       "      <td>0</td>\n",
       "      <td>17</td>\n",
       "      <td>17</td>\n",
       "      <td>1</td>\n",
       "      <td>High</td>\n",
       "    </tr>\n",
       "    <tr>\n",
       "      <th>18741</th>\n",
       "      <td>Bo</td>\n",
       "      <td>Gereformeerd vrijgemaakt</td>\n",
       "      <td>CET</td>\n",
       "      <td>11</td>\n",
       "      <td>1</td>\n",
       "      <td>5</td>\n",
       "      <td>5</td>\n",
       "      <td>0</td>\n",
       "      <td>0</td>\n",
       "      <td>6</td>\n",
       "      <td>...</td>\n",
       "      <td>0</td>\n",
       "      <td>3</td>\n",
       "      <td>1</td>\n",
       "      <td>3</td>\n",
       "      <td>2</td>\n",
       "      <td>0</td>\n",
       "      <td>12</td>\n",
       "      <td>12</td>\n",
       "      <td>1</td>\n",
       "      <td>Low</td>\n",
       "    </tr>\n",
       "    <tr>\n",
       "      <th>18742</th>\n",
       "      <td>Bo</td>\n",
       "      <td>Openbaar</td>\n",
       "      <td>IEP</td>\n",
       "      <td>12</td>\n",
       "      <td>2</td>\n",
       "      <td>3</td>\n",
       "      <td>7</td>\n",
       "      <td>0</td>\n",
       "      <td>0</td>\n",
       "      <td>2</td>\n",
       "      <td>...</td>\n",
       "      <td>1</td>\n",
       "      <td>5</td>\n",
       "      <td>3</td>\n",
       "      <td>0</td>\n",
       "      <td>3</td>\n",
       "      <td>0</td>\n",
       "      <td>15</td>\n",
       "      <td>14</td>\n",
       "      <td>2</td>\n",
       "      <td>High</td>\n",
       "    </tr>\n",
       "    <tr>\n",
       "      <th>18743</th>\n",
       "      <td>Bo</td>\n",
       "      <td>Openbaar</td>\n",
       "      <td>CET</td>\n",
       "      <td>21</td>\n",
       "      <td>1</td>\n",
       "      <td>14</td>\n",
       "      <td>6</td>\n",
       "      <td>0</td>\n",
       "      <td>0</td>\n",
       "      <td>4</td>\n",
       "      <td>...</td>\n",
       "      <td>5</td>\n",
       "      <td>2</td>\n",
       "      <td>4</td>\n",
       "      <td>1</td>\n",
       "      <td>2</td>\n",
       "      <td>0</td>\n",
       "      <td>21</td>\n",
       "      <td>11</td>\n",
       "      <td>1</td>\n",
       "      <td>Low</td>\n",
       "    </tr>\n",
       "  </tbody>\n",
       "</table>\n",
       "<p>5 rows × 26 columns</p>\n",
       "</div>"
      ],
      "text/plain": [
       "      SOORT_PO     DENOMINATIE_VESTIGING EXAMEN  EXAMEN_AANTAL  \\\n",
       "18739       Bo  Gereformeerd vrijgemaakt    CET             11   \n",
       "18740       Bo           Rooms-Katholiek    CET             17   \n",
       "18741       Bo  Gereformeerd vrijgemaakt    CET             11   \n",
       "18742       Bo                  Openbaar    IEP             12   \n",
       "18743       Bo                  Openbaar    CET             21   \n",
       "\n",
       "       REKENEN_LAGER1F  REKENEN_1F  REKENEN_1S  REKENEN_2F  LV_LAGER1F  LV_1F  \\\n",
       "18739                1           5           5           0           0      1   \n",
       "18740                0           5          12           0           1      1   \n",
       "18741                1           5           5           0           0      6   \n",
       "18742                2           3           7           0           0      2   \n",
       "18743                1          14           6           0           0      4   \n",
       "\n",
       "       ...  VMBO  VMBO_HAVO  HAVO  HAVO_VWO  VWO  ADVIES_NIET_MOGELIJK  \\\n",
       "18739  ...     0          2     4         0    3                     0   \n",
       "18740  ...     1          0     4         0    9                     0   \n",
       "18741  ...     0          3     1         3    2                     0   \n",
       "18742  ...     1          5     3         0    3                     0   \n",
       "18743  ...     5          2     4         1    2                     0   \n",
       "\n",
       "       TOTAAL_ADVIES  LJ8  ZIT  SCORE_LEVEL  \n",
       "18739             11   11    1         High  \n",
       "18740             17   17    1         High  \n",
       "18741             12   12    1          Low  \n",
       "18742             15   14    2         High  \n",
       "18743             21   11    1          Low  \n",
       "\n",
       "[5 rows x 26 columns]"
      ]
     },
     "execution_count": 70,
     "metadata": {},
     "output_type": "execute_result"
    }
   ],
   "source": [
    "columns = ['EXAMEN_GEM', 'SCHOOL_ID', 'DATUM', 'INSTELLINGSNAAM_VESTIGING', 'POSTCODE_VESTIGING', \n",
    "           'PLAATSNAAM', 'GEMEENTENAAM', 'PROVINCIE']\n",
    "print(data_score.shape)\n",
    "data = data_score.drop(columns, 1)\n",
    "print(data.shape)\n",
    "print(data.columns)\n",
    "data.head()"
   ]
  },
  {
   "cell_type": "markdown",
   "metadata": {},
   "source": [
    "Let's take a look at the outcome:"
   ]
  },
  {
   "cell_type": "code",
   "execution_count": 71,
   "metadata": {},
   "outputs": [
    {
     "name": "stdout",
     "output_type": "stream",
     "text": [
      "High    3146\n",
      "Low     3140\n",
      "Name: SCORE_LEVEL, dtype: int64\n",
      "AxesSubplot(0.125,0.125;0.775x0.755)\n"
     ]
    },
    {
     "data": {
      "image/png": "[encoded data removed]",
      "text/plain": [
       "<Figure size 576x432 with 1 Axes>"
      ]
     },
     "metadata": {
      "needs_background": "light"
     },
     "output_type": "display_data"
    }
   ],
   "source": [
    "print(data['SCORE_LEVEL'].value_counts())\n",
    "plt.figure(figsize=(8,6))\n",
    "print(sns.countplot(x='SCORE_LEVEL',data=data, \n",
    "                    order = data['SCORE_LEVEL'].value_counts().index))"
   ]
  },
  {
   "cell_type": "markdown",
   "metadata": {},
   "source": [
    "The outcome (the **SCORE_LEVEL** column) has almost the same amount of values for both results `High` and `Low`, so we don't need to do anything with this sample (like oversampling or undersampling) and can just continue with the analysis.\n",
    "\n",
    "Let's encode categorical variables using LabelEncoder:"
   ]
  },
  {
   "cell_type": "code",
   "execution_count": 72,
   "metadata": {},
   "outputs": [
    {
     "data": {
      "text/html": [
       "<div>\n",
       "<style scoped>\n",
       "    .dataframe tbody tr th:only-of-type {\n",
       "        vertical-align: middle;\n",
       "    }\n",
       "\n",
       "    .dataframe tbody tr th {\n",
       "        vertical-align: top;\n",
       "    }\n",
       "\n",
       "    .dataframe thead th {\n",
       "        text-align: right;\n",
       "    }\n",
       "</style>\n",
       "<table border=\"1\" class=\"dataframe\">\n",
       "  <thead>\n",
       "    <tr style=\"text-align: right;\">\n",
       "      <th></th>\n",
       "      <th>SOORT_PO</th>\n",
       "      <th>DENOMINATIE_VESTIGING</th>\n",
       "      <th>EXAMEN</th>\n",
       "      <th>EXAMEN_AANTAL</th>\n",
       "      <th>REKENEN_LAGER1F</th>\n",
       "      <th>REKENEN_1F</th>\n",
       "      <th>REKENEN_1S</th>\n",
       "      <th>REKENEN_2F</th>\n",
       "      <th>LV_LAGER1F</th>\n",
       "      <th>LV_1F</th>\n",
       "      <th>...</th>\n",
       "      <th>VMBO</th>\n",
       "      <th>VMBO_HAVO</th>\n",
       "      <th>HAVO</th>\n",
       "      <th>HAVO_VWO</th>\n",
       "      <th>VWO</th>\n",
       "      <th>ADVIES_NIET_MOGELIJK</th>\n",
       "      <th>TOTAAL_ADVIES</th>\n",
       "      <th>LJ8</th>\n",
       "      <th>ZIT</th>\n",
       "      <th>SCORE_LEVEL</th>\n",
       "    </tr>\n",
       "  </thead>\n",
       "  <tbody>\n",
       "    <tr>\n",
       "      <th>18739</th>\n",
       "      <td>0</td>\n",
       "      <td>4</td>\n",
       "      <td>1</td>\n",
       "      <td>11</td>\n",
       "      <td>1</td>\n",
       "      <td>5</td>\n",
       "      <td>5</td>\n",
       "      <td>0</td>\n",
       "      <td>0</td>\n",
       "      <td>1</td>\n",
       "      <td>...</td>\n",
       "      <td>0</td>\n",
       "      <td>2</td>\n",
       "      <td>4</td>\n",
       "      <td>0</td>\n",
       "      <td>3</td>\n",
       "      <td>0</td>\n",
       "      <td>11</td>\n",
       "      <td>11</td>\n",
       "      <td>1</td>\n",
       "      <td>0</td>\n",
       "    </tr>\n",
       "    <tr>\n",
       "      <th>18740</th>\n",
       "      <td>0</td>\n",
       "      <td>12</td>\n",
       "      <td>1</td>\n",
       "      <td>17</td>\n",
       "      <td>0</td>\n",
       "      <td>5</td>\n",
       "      <td>12</td>\n",
       "      <td>0</td>\n",
       "      <td>1</td>\n",
       "      <td>1</td>\n",
       "      <td>...</td>\n",
       "      <td>1</td>\n",
       "      <td>0</td>\n",
       "      <td>4</td>\n",
       "      <td>0</td>\n",
       "      <td>9</td>\n",
       "      <td>0</td>\n",
       "      <td>17</td>\n",
       "      <td>17</td>\n",
       "      <td>1</td>\n",
       "      <td>0</td>\n",
       "    </tr>\n",
       "    <tr>\n",
       "      <th>18741</th>\n",
       "      <td>0</td>\n",
       "      <td>4</td>\n",
       "      <td>1</td>\n",
       "      <td>11</td>\n",
       "      <td>1</td>\n",
       "      <td>5</td>\n",
       "      <td>5</td>\n",
       "      <td>0</td>\n",
       "      <td>0</td>\n",
       "      <td>6</td>\n",
       "      <td>...</td>\n",
       "      <td>0</td>\n",
       "      <td>3</td>\n",
       "      <td>1</td>\n",
       "      <td>3</td>\n",
       "      <td>2</td>\n",
       "      <td>0</td>\n",
       "      <td>12</td>\n",
       "      <td>12</td>\n",
       "      <td>1</td>\n",
       "      <td>1</td>\n",
       "    </tr>\n",
       "    <tr>\n",
       "      <th>18742</th>\n",
       "      <td>0</td>\n",
       "      <td>9</td>\n",
       "      <td>3</td>\n",
       "      <td>12</td>\n",
       "      <td>2</td>\n",
       "      <td>3</td>\n",
       "      <td>7</td>\n",
       "      <td>0</td>\n",
       "      <td>0</td>\n",
       "      <td>2</td>\n",
       "      <td>...</td>\n",
       "      <td>1</td>\n",
       "      <td>5</td>\n",
       "      <td>3</td>\n",
       "      <td>0</td>\n",
       "      <td>3</td>\n",
       "      <td>0</td>\n",
       "      <td>15</td>\n",
       "      <td>14</td>\n",
       "      <td>2</td>\n",
       "      <td>0</td>\n",
       "    </tr>\n",
       "    <tr>\n",
       "      <th>18743</th>\n",
       "      <td>0</td>\n",
       "      <td>9</td>\n",
       "      <td>1</td>\n",
       "      <td>21</td>\n",
       "      <td>1</td>\n",
       "      <td>14</td>\n",
       "      <td>6</td>\n",
       "      <td>0</td>\n",
       "      <td>0</td>\n",
       "      <td>4</td>\n",
       "      <td>...</td>\n",
       "      <td>5</td>\n",
       "      <td>2</td>\n",
       "      <td>4</td>\n",
       "      <td>1</td>\n",
       "      <td>2</td>\n",
       "      <td>0</td>\n",
       "      <td>21</td>\n",
       "      <td>11</td>\n",
       "      <td>1</td>\n",
       "      <td>1</td>\n",
       "    </tr>\n",
       "  </tbody>\n",
       "</table>\n",
       "<p>5 rows × 26 columns</p>\n",
       "</div>"
      ],
      "text/plain": [
       "       SOORT_PO  DENOMINATIE_VESTIGING  EXAMEN  EXAMEN_AANTAL  \\\n",
       "18739         0                      4       1             11   \n",
       "18740         0                     12       1             17   \n",
       "18741         0                      4       1             11   \n",
       "18742         0                      9       3             12   \n",
       "18743         0                      9       1             21   \n",
       "\n",
       "       REKENEN_LAGER1F  REKENEN_1F  REKENEN_1S  REKENEN_2F  LV_LAGER1F  LV_1F  \\\n",
       "18739                1           5           5           0           0      1   \n",
       "18740                0           5          12           0           1      1   \n",
       "18741                1           5           5           0           0      6   \n",
       "18742                2           3           7           0           0      2   \n",
       "18743                1          14           6           0           0      4   \n",
       "\n",
       "       ...  VMBO  VMBO_HAVO  HAVO  HAVO_VWO  VWO  ADVIES_NIET_MOGELIJK  \\\n",
       "18739  ...     0          2     4         0    3                     0   \n",
       "18740  ...     1          0     4         0    9                     0   \n",
       "18741  ...     0          3     1         3    2                     0   \n",
       "18742  ...     1          5     3         0    3                     0   \n",
       "18743  ...     5          2     4         1    2                     0   \n",
       "\n",
       "       TOTAAL_ADVIES  LJ8  ZIT  SCORE_LEVEL  \n",
       "18739             11   11    1            0  \n",
       "18740             17   17    1            0  \n",
       "18741             12   12    1            1  \n",
       "18742             15   14    2            0  \n",
       "18743             21   11    1            1  \n",
       "\n",
       "[5 rows x 26 columns]"
      ]
     },
     "execution_count": 72,
     "metadata": {},
     "output_type": "execute_result"
    }
   ],
   "source": [
    "from sklearn.preprocessing import LabelEncoder\n",
    "\n",
    "data['SOORT_PO'] = LabelEncoder().fit_transform(data['SOORT_PO'])\n",
    "\n",
    "data['DENOMINATIE_VESTIGING'] = LabelEncoder().fit_transform(data['DENOMINATIE_VESTIGING'])\n",
    "\n",
    "data['EXAMEN'] = LabelEncoder().fit_transform(data['EXAMEN'])\n",
    "\n",
    "data['SCORE_LEVEL'] = LabelEncoder().fit_transform(data['SCORE_LEVEL'])\n",
    "data.head()"
   ]
  },
  {
   "cell_type": "markdown",
   "metadata": {},
   "source": [
    "Before we can start modelling we need to normalize the data (using MinMaxScaler) and split it into train and test datasets:"
   ]
  },
  {
   "cell_type": "code",
   "execution_count": 73,
   "metadata": {},
   "outputs": [],
   "source": [
    "from sklearn.model_selection import train_test_split, cross_val_score\n",
    "from sklearn.svm import SVC\n",
    "from sklearn.ensemble import RandomForestClassifier\n",
    "from sklearn.neighbors import KNeighborsClassifier\n",
    "from xgboost import XGBClassifier\n",
    "from sklearn.preprocessing import LabelEncoder, MinMaxScaler\n",
    "from sklearn.metrics import  plot_roc_curve\n",
    "\n",
    "random_state = 4004\n",
    "\n",
    "def split_data(data): \n",
    "    \n",
    "    X_train, X_test, y_train, y_test = train_test_split(data, pred, train_size=0.7, test_size=0.3, random_state=random_state)\n",
    "    return X_train, X_test, y_train, y_test\n",
    "\n",
    "pred = data['SCORE_LEVEL']\n",
    "data.drop('SCORE_LEVEL', 1, inplace = True)\n",
    "    \n",
    "X_train, X_test, y_train, y_test = split_data(data)"
   ]
  },
  {
   "cell_type": "markdown",
   "metadata": {},
   "source": [
    "## Building models\n",
    "\n",
    "Let' start modelling. I will build a classification model using several ML algorithms: Random forest, K Nearest Neighbors, Support Vector Machine and XGBoost. "
   ]
  },
  {
   "cell_type": "markdown",
   "metadata": {},
   "source": [
    "### Random forest"
   ]
  },
  {
   "cell_type": "code",
   "execution_count": 74,
   "metadata": {},
   "outputs": [],
   "source": [
    "def random_forest(X_train, X_test, y_train, y_test):\n",
    "    rfc = RandomForestClassifier(n_estimators=100, random_state = random_state)\n",
    "    rfc.fit(X_train, y_train)\n",
    "    pred_test = rfc.predict(X_test)\n",
    " \n",
    "    rfc_score = 100 * rfc.score(X_test, y_test)\n",
    "    print(\"Score is: %3.2f\" % (rfc_score))\n",
    "    \n",
    "    rfc_disp = plot_roc_curve(rfc, X_test, y_test)\n",
    "    return rfc, rfc_score, rfc_disp"
   ]
  },
  {
   "cell_type": "code",
   "execution_count": 75,
   "metadata": {},
   "outputs": [
    {
     "name": "stdout",
     "output_type": "stream",
     "text": [
      "Random Forest\n",
      "Score is: 89.29\n"
     ]
    },
    {
     "data": {
      "image/png": "[encoded data removed]",
      "text/plain": [
       "<Figure size 432x288 with 1 Axes>"
      ]
     },
     "metadata": {
      "needs_background": "light"
     },
     "output_type": "display_data"
    }
   ],
   "source": [
    "print(\"Random Forest\")\n",
    "rfc, rfc_score, rfc_disp = random_forest(X_train, X_test, y_train, y_test)"
   ]
  },
  {
   "cell_type": "markdown",
   "metadata": {},
   "source": [
    "### K Nearest Neighbors "
   ]
  },
  {
   "cell_type": "code",
   "execution_count": 76,
   "metadata": {},
   "outputs": [],
   "source": [
    "def knn(X_train, X_test, y_train, y_test):\n",
    "    knn = KNeighborsClassifier()\n",
    "    knn.fit(X_train, y_train)\n",
    "    preds = knn.predict(X_test)\n",
    "    pred_test = knn.predict(X_test)\n",
    "    knn_score = 100 * knn.score(X_test, y_test)\n",
    "    print(\"Score is: %3.2f\" % (knn_score))\n",
    "    knn_disp = plot_roc_curve(knn, X_test, y_test)\n",
    "    return knn, knn_score, knn_disp"
   ]
  },
  {
   "cell_type": "code",
   "execution_count": 77,
   "metadata": {},
   "outputs": [
    {
     "name": "stdout",
     "output_type": "stream",
     "text": [
      "KNN\n",
      "Score is: 83.99\n"
     ]
    },
    {
     "data": {
      "image/png": "[encoded data removed]",
      "text/plain": [
       "<Figure size 432x288 with 1 Axes>"
      ]
     },
     "metadata": {
      "needs_background": "light"
     },
     "output_type": "display_data"
    }
   ],
   "source": [
    "print(\"KNN\")\n",
    "knn, knn_score, knn_disp = knn(X_train, X_test, y_train, y_test)"
   ]
  },
  {
   "cell_type": "markdown",
   "metadata": {},
   "source": [
    "### Support Vector Machine"
   ]
  },
  {
   "cell_type": "code",
   "execution_count": 78,
   "metadata": {},
   "outputs": [],
   "source": [
    "def svc(X_train, X_test, y_train, y_test):\n",
    "    svc = SVC()\n",
    "    svc.fit(X_train, y_train)\n",
    "    pred_test = svc.predict(X_test)\n",
    "    svc_score = 100 * svc.score(X_test, y_test)\n",
    "    print(\"Score is: %3.2f\" % (svc_score))\n",
    "    svc_disp = plot_roc_curve(svc, X_test, y_test)\n",
    "    return svc, svc_score, svc_disp"
   ]
  },
  {
   "cell_type": "code",
   "execution_count": 79,
   "metadata": {},
   "outputs": [
    {
     "name": "stdout",
     "output_type": "stream",
     "text": [
      "Support Vector Machine\n",
      "Score is: 89.34\n"
     ]
    },
    {
     "data": {
      "image/png": "[encoded data removed]",
      "text/plain": [
       "<Figure size 432x288 with 1 Axes>"
      ]
     },
     "metadata": {
      "needs_background": "light"
     },
     "output_type": "display_data"
    }
   ],
   "source": [
    "print(\"Support Vector Machine\")\n",
    "svc, svc_score, svc_disp = svc(X_train, X_test, y_train, y_test)"
   ]
  },
  {
   "cell_type": "markdown",
   "metadata": {},
   "source": [
    "### XGBoost"
   ]
  },
  {
   "cell_type": "code",
   "execution_count": 80,
   "metadata": {},
   "outputs": [],
   "source": [
    "def XGBoost(X_train, X_test, y_train, y_test):\n",
    "    xgb = XGBClassifier(n_estimators=100)\n",
    "    xgb.fit(X_train, y_train)\n",
    "    pred_test = xgb.predict(X_test)\n",
    "    xgb_score = (pred_test == y_test).sum() / len(pred_test)*100\n",
    "    print(\"Score is: %3.2f\" % (xgb_score))\n",
    "    xgb_disp = plot_roc_curve(xgb, X_test, y_test)\n",
    "    return xgb, xgb_score, xgb_disp"
   ]
  },
  {
   "cell_type": "code",
   "execution_count": 81,
   "metadata": {},
   "outputs": [
    {
     "name": "stdout",
     "output_type": "stream",
     "text": [
      "XGBoost\n",
      "Score is: 89.40\n"
     ]
    },
    {
     "data": {
      "image/png": "[encoded data removed]",
      "text/plain": [
       "<Figure size 432x288 with 1 Axes>"
      ]
     },
     "metadata": {
      "needs_background": "light"
     },
     "output_type": "display_data"
    }
   ],
   "source": [
    "print(\"XGBoost\")\n",
    "xgb, xgb_score, xgb_disp = XGBoost(X_train, X_test, y_train, y_test)"
   ]
  },
  {
   "cell_type": "markdown",
   "metadata": {},
   "source": [
    "## Results\n",
    "\n",
    "We made a few models, let's check which one gave us the most accurate results:"
   ]
  },
  {
   "cell_type": "code",
   "execution_count": 82,
   "metadata": {},
   "outputs": [
    {
     "data": {
      "text/html": [
       "<div>\n",
       "<style scoped>\n",
       "    .dataframe tbody tr th:only-of-type {\n",
       "        vertical-align: middle;\n",
       "    }\n",
       "\n",
       "    .dataframe tbody tr th {\n",
       "        vertical-align: top;\n",
       "    }\n",
       "\n",
       "    .dataframe thead th {\n",
       "        text-align: right;\n",
       "    }\n",
       "</style>\n",
       "<table border=\"1\" class=\"dataframe\">\n",
       "  <thead>\n",
       "    <tr style=\"text-align: right;\">\n",
       "      <th></th>\n",
       "      <th>Score</th>\n",
       "    </tr>\n",
       "    <tr>\n",
       "      <th>Model</th>\n",
       "      <th></th>\n",
       "    </tr>\n",
       "  </thead>\n",
       "  <tbody>\n",
       "    <tr>\n",
       "      <th>XGBoost</th>\n",
       "      <td>89.395546</td>\n",
       "    </tr>\n",
       "    <tr>\n",
       "      <th>SVC</th>\n",
       "      <td>89.342524</td>\n",
       "    </tr>\n",
       "    <tr>\n",
       "      <th>Random Forest</th>\n",
       "      <td>89.289502</td>\n",
       "    </tr>\n",
       "    <tr>\n",
       "      <th>KNN</th>\n",
       "      <td>83.987275</td>\n",
       "    </tr>\n",
       "  </tbody>\n",
       "</table>\n",
       "</div>"
      ],
      "text/plain": [
       "                   Score\n",
       "Model                   \n",
       "XGBoost        89.395546\n",
       "SVC            89.342524\n",
       "Random Forest  89.289502\n",
       "KNN            83.987275"
      ]
     },
     "execution_count": 82,
     "metadata": {},
     "output_type": "execute_result"
    }
   ],
   "source": [
    "results = pd.DataFrame({\n",
    "    'Model': ['Random Forest', 'KNN', 'SVC', 'XGBoost'],\n",
    "    'Score': [rfc_score, knn_score, svc_score, xgb_score]\n",
    "}).sort_values(by='Score', ascending=False).set_index('Model')\n",
    "results"
   ]
  },
  {
   "cell_type": "code",
   "execution_count": 83,
   "metadata": {},
   "outputs": [
    {
     "data": {
      "image/png": "[encoded data removed]",
      "text/plain": [
       "<Figure size 432x288 with 1 Axes>"
      ]
     },
     "metadata": {
      "needs_background": "light"
     },
     "output_type": "display_data"
    }
   ],
   "source": [
    "#roc plot\n",
    "ax = plt.gca()\n",
    "rfc_disp.plot(ax=ax, alpha=0.8)\n",
    "knn_disp.plot(ax=ax, alpha=0.8)\n",
    "svc_disp.plot(ax=ax, alpha=0.8)\n",
    "xgb_disp.plot(ax=ax, alpha=0.8)\n",
    "plt.show()"
   ]
  },
  {
   "cell_type": "markdown",
   "metadata": {},
   "source": [
    "We can see that XGBoost, SVC and Random forest gave us almost the same result.\n",
    "Let's check now what factors were the most important ones:"
   ]
  },
  {
   "cell_type": "code",
   "execution_count": 84,
   "metadata": {},
   "outputs": [
    {
     "data": {
      "text/plain": [
       "<AxesSubplot:xlabel='Feature'>"
      ]
     },
     "execution_count": 84,
     "metadata": {},
     "output_type": "execute_result"
    },
    {
     "data": {
      "image/png": "[encoded data removed]",
      "text/plain": [
       "<Figure size 432x288 with 1 Axes>"
      ]
     },
     "metadata": {
      "needs_background": "light"
     },
     "output_type": "display_data"
    }
   ],
   "source": [
    "importances = pd.DataFrame({\n",
    "    'Feature': data.columns,\n",
    "    'Importance': xgb.feature_importances_\n",
    "}).sort_values(by='Importance', ascending=False).set_index('Feature')\n",
    "importances.plot.bar()"
   ]
  },
  {
   "cell_type": "markdown",
   "metadata": {},
   "source": [
    "It looks like the most important factors are: the amount of students who don't have enough math skills and the amount of students who have good language skills.\n",
    "\n",
    "### Conclusion\n",
    "\n",
    "As a result I can say that XGBoost gives the best result for the CET exam level prediction.\n",
    "\n",
    "Also when I choose a school with a better then average quality of education, I need to take a look at the number of student who know math not so well (and probably the smaller the amount of such students is, the better the average CET score a school would have)."
   ]
  },
  {
   "cell_type": "code",
   "execution_count": null,
   "metadata": {},
   "outputs": [],
   "source": []
  }
 ],
 "metadata": {
  "kernelspec": {
   "display_name": "Python 3",
   "language": "python",
   "name": "python3"
  },
  "language_info": {
   "codemirror_mode": {
    "name": "ipython",
    "version": 3
   },
   "file_extension": ".py",
   "mimetype": "text/x-python",
   "name": "python",
   "nbconvert_exporter": "python",
   "pygments_lexer": "ipython3",
   "version": "3.8.5"
  }
 },
 "nbformat": 4,
 "nbformat_minor": 4
}
