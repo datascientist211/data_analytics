{
 "cells": [
  {
   "cell_type": "markdown",
   "id": "2a915f68-2241-486f-a719-ddc540e2ba25",
   "metadata": {},
   "source": [
    "# Analyses and construction of the dutch primary schools dataset\n",
    "\n",
    "![Analyses and construction of the dutch primary schools dataset](picture.jpg)\n",
    "\n",
    "In the Netherlands children go to primary school on the next day after they turn 4 years old. And before that, when they are 2.5 or 3 year old, their parents should choose a school for them. Ideally – the best school for their baby. It's quite a big problem for a non-native dutch parent like myself. I have no idea what is important, what should I think about, what should I look at in this process. \n",
    "I found that Dutch Ministry of education, culture and science opened some data about primary schools. So I want to make a dataset out of the information from their recources and make some data analysis to understand better the dutch system of primary education.\n",
    "\n",
    "### Dataset construction\n",
    "1. [Exams scores](./make_school_data/main/score_first_step.html)\n",
    "2. [Students level in language and arithmetic and School advices about secondary education](./make_school_data/main/score_second_step.html)\n",
    "3. [Students who stayed in primary school longer then others](./make_school_data/main/score_third_step.html)\n",
    "4. [Column description for final dataset](./make_school_data/main/column_description.html)\n",
    "\n",
    "### Explotatory Data Analysis\n",
    "1. [EDA for school dataset](./EDA.html)\n",
    "\n",
    "### Classifications\n",
    "1. [Denomination classificator](./Denomination_classificator.html)\n",
    "2. [CET score level classificator](./CET_score_classificator.html)"
   ]
  },
  {
   "cell_type": "markdown",
   "id": "1ab80b49-7fcb-4dde-8938-bef672b81864",
   "metadata": {},
   "source": []
  }
 ],
 "metadata": {
  "kernelspec": {
   "display_name": "Python 3 (ipykernel)",
   "language": "python",
   "name": "python3"
  },
  "language_info": {
   "codemirror_mode": {
    "name": "ipython",
    "version": 3
   },
   "file_extension": ".py",
   "mimetype": "text/x-python",
   "name": "python",
   "nbconvert_exporter": "python",
   "pygments_lexer": "ipython3",
   "version": "3.11.0"
  }
 },
 "nbformat": 4,
 "nbformat_minor": 5
}
