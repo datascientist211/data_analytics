{
 "cells": [
  {
   "cell_type": "markdown",
   "metadata": {
    "tags": []
   },
   "source": [
    "###### Providing data-driven solutions to challenging business problems\n",
    "\n",
    "\n",
    "#### Hello!  I'm Daria Efimova. \n",
    "\n",
    "![photo](photo.jpg)\n",
    "\n",
    "Talented data scientist with strong analytical skills. \n",
    "\n",
    "I've been a software developer for about 5 years \n",
    "and receive a Masters degree in mathematics and computer science before that.\n",
    "\n",
    "The most cool and recent project I've done:\n",
    "    [Analysis of the owners of the dogs in Groningen](./Nederland/Gron_pet_analysis/index_dogs.html)\n",
    "\n",
    "\n",
    "\n",
    "Also during the study I've completed this projects (in order from the most recent one):\n",
    "1. [SpaceX Falcon 9 First Stage Landing Prediction](./SpaceXPrediction/index_spacex.html)\n",
    "2. [Coursera: Machine Learning project](./MLCourseraProject.html)\n",
    "3. [Analyses and construction of the dutch primary schools dataset](./school_data/index_school.html)\n",
    "\n",
    "\n",
    "\n",
    "\n",
    "\n",
    "\n",
    "\n",
    "#### My contacts:\n",
    "\n",
    "E-mail: dbazinka@gmail.com \n",
    "\n",
    "Mobile: +31 6 252 985 43"
   ]
  },
  {
   "cell_type": "code",
   "execution_count": null,
   "metadata": {},
   "outputs": [],
   "source": []
  },
  {
   "cell_type": "markdown",
   "metadata": {},
   "source": [
    "<img style=\"float: center;\" src=\"photo.jpg\">\n"
   ]
  },
  {
   "cell_type": "code",
   "execution_count": null,
   "metadata": {},
   "outputs": [],
   "source": []
  },
  {
   "cell_type": "code",
   "execution_count": null,
   "metadata": {},
   "outputs": [],
   "source": []
  }
 ],
 "metadata": {
  "kernelspec": {
   "display_name": "Python 3 (ipykernel)",
   "language": "python",
   "name": "python3"
  },
  "language_info": {
   "codemirror_mode": {
    "name": "ipython",
    "version": 3
   },
   "file_extension": ".py",
   "mimetype": "text/x-python",
   "name": "python",
   "nbconvert_exporter": "python",
   "pygments_lexer": "ipython3",
   "version": "3.11.0"
  }
 },
 "nbformat": 4,
 "nbformat_minor": 4
}
