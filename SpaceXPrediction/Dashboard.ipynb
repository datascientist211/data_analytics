{
 "cells": [
  {
   "cell_type": "code",
   "execution_count": 1,
   "id": "641467ce-fee8-4834-bb1d-28f46b0c0ec1",
   "metadata": {},
   "outputs": [],
   "source": [
    "# andas is a software library written for the Python programming language for data manipulation and analysis.\n",
    "import pandas as pd\n",
    "#NumPy is a library for the Python programming language, adding support for large, multi-dimensional arrays and matrices, along with a large collection of high-level mathematical functions to operate on these arrays\n",
    "import numpy as np\n",
    "# Matplotlib is a plotting library for python and pyplot gives us a MatLab like plotting framework. We will use this in our plotter function to plot data.\n",
    "import matplotlib.pyplot as plt\n",
    "#Seaborn is a Python data visualization library based on matplotlib. It provides a high-level interface for drawing attractive and informative statistical graphics\n",
    "import seaborn as sns\n"
   ]
  },
  {
   "cell_type": "code",
   "execution_count": 2,
   "id": "33ab8584-72b4-48a3-a1c1-9de6123f89fd",
   "metadata": {},
   "outputs": [
    {
     "data": {
      "text/html": [
       "<div>\n",
       "<style scoped>\n",
       "    .dataframe tbody tr th:only-of-type {\n",
       "        vertical-align: middle;\n",
       "    }\n",
       "\n",
       "    .dataframe tbody tr th {\n",
       "        vertical-align: top;\n",
       "    }\n",
       "\n",
       "    .dataframe thead th {\n",
       "        text-align: right;\n",
       "    }\n",
       "</style>\n",
       "<table border=\"1\" class=\"dataframe\">\n",
       "  <thead>\n",
       "    <tr style=\"text-align: right;\">\n",
       "      <th></th>\n",
       "      <th>Unnamed: 0</th>\n",
       "      <th>Flight Number</th>\n",
       "      <th>Launch Site</th>\n",
       "      <th>class</th>\n",
       "      <th>Payload Mass (kg)</th>\n",
       "      <th>Booster Version</th>\n",
       "      <th>Booster Version Category</th>\n",
       "    </tr>\n",
       "  </thead>\n",
       "  <tbody>\n",
       "    <tr>\n",
       "      <th>0</th>\n",
       "      <td>0</td>\n",
       "      <td>1</td>\n",
       "      <td>CCAFS LC-40</td>\n",
       "      <td>0</td>\n",
       "      <td>0.0</td>\n",
       "      <td>F9 v1.0  B0003</td>\n",
       "      <td>v1.0</td>\n",
       "    </tr>\n",
       "    <tr>\n",
       "      <th>1</th>\n",
       "      <td>1</td>\n",
       "      <td>2</td>\n",
       "      <td>CCAFS LC-40</td>\n",
       "      <td>0</td>\n",
       "      <td>0.0</td>\n",
       "      <td>F9 v1.0  B0004</td>\n",
       "      <td>v1.0</td>\n",
       "    </tr>\n",
       "    <tr>\n",
       "      <th>2</th>\n",
       "      <td>2</td>\n",
       "      <td>3</td>\n",
       "      <td>CCAFS LC-40</td>\n",
       "      <td>0</td>\n",
       "      <td>525.0</td>\n",
       "      <td>F9 v1.0  B0005</td>\n",
       "      <td>v1.0</td>\n",
       "    </tr>\n",
       "    <tr>\n",
       "      <th>3</th>\n",
       "      <td>3</td>\n",
       "      <td>4</td>\n",
       "      <td>CCAFS LC-40</td>\n",
       "      <td>0</td>\n",
       "      <td>500.0</td>\n",
       "      <td>F9 v1.0  B0006</td>\n",
       "      <td>v1.0</td>\n",
       "    </tr>\n",
       "    <tr>\n",
       "      <th>4</th>\n",
       "      <td>4</td>\n",
       "      <td>5</td>\n",
       "      <td>CCAFS LC-40</td>\n",
       "      <td>0</td>\n",
       "      <td>677.0</td>\n",
       "      <td>F9 v1.0  B0007</td>\n",
       "      <td>v1.0</td>\n",
       "    </tr>\n",
       "  </tbody>\n",
       "</table>\n",
       "</div>"
      ],
      "text/plain": [
       "   Unnamed: 0  Flight Number  Launch Site  class  Payload Mass (kg)  \\\n",
       "0           0              1  CCAFS LC-40      0                0.0   \n",
       "1           1              2  CCAFS LC-40      0                0.0   \n",
       "2           2              3  CCAFS LC-40      0              525.0   \n",
       "3           3              4  CCAFS LC-40      0              500.0   \n",
       "4           4              5  CCAFS LC-40      0              677.0   \n",
       "\n",
       "  Booster Version Booster Version Category  \n",
       "0  F9 v1.0  B0003                     v1.0  \n",
       "1  F9 v1.0  B0004                     v1.0  \n",
       "2  F9 v1.0  B0005                     v1.0  \n",
       "3  F9 v1.0  B0006                     v1.0  \n",
       "4  F9 v1.0  B0007                     v1.0  "
      ]
     },
     "execution_count": 2,
     "metadata": {},
     "output_type": "execute_result"
    }
   ],
   "source": [
    "spacex_df=pd.read_csv(\"spacex_launch_dash.csv\")\n",
    "spacex_df.head(5)"
   ]
  },
  {
   "cell_type": "code",
   "execution_count": 3,
   "id": "52239caa-5feb-46bf-a805-586a39b4c5e9",
   "metadata": {},
   "outputs": [
    {
     "data": {
      "text/html": [
       "<div>\n",
       "<style scoped>\n",
       "    .dataframe tbody tr th:only-of-type {\n",
       "        vertical-align: middle;\n",
       "    }\n",
       "\n",
       "    .dataframe tbody tr th {\n",
       "        vertical-align: top;\n",
       "    }\n",
       "\n",
       "    .dataframe thead th {\n",
       "        text-align: right;\n",
       "    }\n",
       "</style>\n",
       "<table border=\"1\" class=\"dataframe\">\n",
       "  <thead>\n",
       "    <tr style=\"text-align: right;\">\n",
       "      <th></th>\n",
       "      <th>Launch Site</th>\n",
       "    </tr>\n",
       "  </thead>\n",
       "  <tbody>\n",
       "    <tr>\n",
       "      <th>0</th>\n",
       "      <td>CCAFS LC-40</td>\n",
       "    </tr>\n",
       "    <tr>\n",
       "      <th>1</th>\n",
       "      <td>CCAFS SLC-40</td>\n",
       "    </tr>\n",
       "    <tr>\n",
       "      <th>2</th>\n",
       "      <td>KSC LC-39A</td>\n",
       "    </tr>\n",
       "    <tr>\n",
       "      <th>3</th>\n",
       "      <td>VAFB SLC-4E</td>\n",
       "    </tr>\n",
       "  </tbody>\n",
       "</table>\n",
       "</div>"
      ],
      "text/plain": [
       "    Launch Site\n",
       "0   CCAFS LC-40\n",
       "1  CCAFS SLC-40\n",
       "2    KSC LC-39A\n",
       "3   VAFB SLC-4E"
      ]
     },
     "execution_count": 3,
     "metadata": {},
     "output_type": "execute_result"
    }
   ],
   "source": [
    "launch_sites_df = spacex_df.groupby(['Launch Site'], as_index=False).first()\n",
    "launch_sites_df = launch_sites_df[['Launch Site']]\n",
    "launch_sites_df.head()"
   ]
  },
  {
   "cell_type": "code",
   "execution_count": 4,
   "id": "5aa81b82-2390-4e47-b3da-b816c73114e4",
   "metadata": {},
   "outputs": [
    {
     "data": {
      "text/plain": [
       "[{'label': 'All Sites', 'value': 'ALL'},\n",
       " {'label': 'CCAFS LC-40', 'value': 'CCAFS LC-40'},\n",
       " {'label': 'CCAFS SLC-40', 'value': 'CCAFS SLC-40'},\n",
       " {'label': 'KSC LC-39A', 'value': 'KSC LC-39A'},\n",
       " {'label': 'VAFB SLC-4E', 'value': 'VAFB SLC-4E'}]"
      ]
     },
     "execution_count": 4,
     "metadata": {},
     "output_type": "execute_result"
    }
   ],
   "source": [
    "dropdown_options = []\n",
    "dropdown_options.append({'label': 'All Sites', 'value': 'ALL'})\n",
    "for index, row in launch_sites_df.iterrows():\n",
    "    dropdown_options.append({'label': row['Launch Site'], 'value': row['Launch Site']})\n",
    "dropdown_options"
   ]
  },
  {
   "cell_type": "code",
   "execution_count": 5,
   "id": "50f30961-cb5a-4c1b-ae27-7cf31178901c",
   "metadata": {},
   "outputs": [
    {
     "name": "stdout",
     "output_type": "stream",
     "text": [
      "    Unnamed: 0  Flight Number  Launch Site  class  Payload Mass (kg)  \\\n",
      "26          26              6  VAFB SLC-4E      0              500.0   \n",
      "27          27             21  VAFB SLC-4E      0              553.0   \n",
      "28          28             29  VAFB SLC-4E      1             9600.0   \n",
      "29          29             37  VAFB SLC-4E      1             9600.0   \n",
      "30          30             40  VAFB SLC-4E      1              475.0   \n",
      "\n",
      "   Booster Version Booster Version Category  \n",
      "26  F9 v1.1  B1003                     v1.1  \n",
      "27   F9 v1.1 B1017                     v1.1  \n",
      "28   F9 FT B1029.1                       FT  \n",
      "29   F9 FT B1036.1                       FT  \n",
      "30   F9 FT B1038.1                       FT  \n"
     ]
    },
    {
     "data": {
      "text/plain": [
       "array([6, 4])"
      ]
     },
     "execution_count": 5,
     "metadata": {},
     "output_type": "execute_result"
    }
   ],
   "source": [
    "site_df = spacex_df[spacex_df['Launch Site']  == 'VAFB SLC-4E']\n",
    "print(site_df.head())\n",
    "site_df['class'].value_counts().values"
   ]
  },
  {
   "cell_type": "code",
   "execution_count": 6,
   "id": "8d5c734c-229c-457a-9b6e-f730dea123f8",
   "metadata": {},
   "outputs": [
    {
     "name": "stdout",
     "output_type": "stream",
     "text": [
      "0.0\n",
      "9600.0\n"
     ]
    }
   ],
   "source": [
    "max_payload_value = spacex_df['Payload Mass (kg)'].max()\n",
    "min_payload_value = spacex_df['Payload Mass (kg)'].min()\n",
    "print(min_payload_value)\n",
    "print(max_payload_value)"
   ]
  },
  {
   "cell_type": "code",
   "execution_count": 7,
   "id": "25a3f996-1b75-4b8a-a726-931523db5e50",
   "metadata": {},
   "outputs": [],
   "source": [
    "import plotly.express as px\n",
    "from jupyter_dash import JupyterDash\n",
    "from dash import dcc\n",
    "from dash import html\n",
    "from dash.dependencies import Input, Output\n",
    "\n",
    "# Build App\n",
    "app = JupyterDash(__name__)\n",
    "app.layout = html.Div([\n",
    "    html.H1(\"SpaceX Launch Records Dashboard\", style={'textAlign': 'center'}),\n",
    "    html.Label([\n",
    "        dcc.Dropdown(\n",
    "            id='site-dropdown', \n",
    "            clearable=False,\n",
    "            value='ALL', \n",
    "            options=dropdown_options\n",
    "        )\n",
    "    ]),\n",
    "    html.Br(),\n",
    "    html.Br(),\n",
    "    html.Div(dcc.Graph(id='success-pie-chart')),\n",
    "    html.Div(dcc.RangeSlider(id='payload-slider',\n",
    "                             min=0, \n",
    "                             max=10000, \n",
    "                             step=1000,\n",
    "                             marks={0: '0', 2500: '2500', 5000: '5000', 7500: '7500', 10000: '10000'},\n",
    "                             value=[min_payload_value, max_payload_value])),\n",
    "    \n",
    "    html.Div(dcc.Graph(id='success-payload-scatter-chart'))\n",
    "])\n",
    "\n",
    "# Callback to update Pie chart\n",
    "@app.callback(\n",
    "    Output(component_id='success-pie-chart', component_property='figure'),\n",
    "    Input(component_id='site-dropdown', component_property='value')\n",
    ")\n",
    "def get_pie_chart(entered_site):\n",
    "    if entered_site == 'ALL':\n",
    "        fig = px.pie(spacex_df, values='class', \n",
    "        names='Launch Site', \n",
    "        title='Total Success Launches By Site')\n",
    "        return fig\n",
    "    else:\n",
    "        site_df = spacex_df[spacex_df['Launch Site']  == entered_site]\n",
    "        fig = px.pie(values=site_df['class'].value_counts().values, \n",
    "                     names=['0', '1'], \n",
    "        title='Total Success Launches For Site' + entered_site)\n",
    "        return fig\n",
    "\n",
    "    \n",
    "    \n",
    "# Callback to update Scatter plot\n",
    "@app.callback(\n",
    "    Output(component_id='success-payload-scatter-chart', component_property='figure'),\n",
    "    [Input(component_id='site-dropdown', component_property='value'), \n",
    "     Input(component_id='payload-slider', component_property='value')]\n",
    ")\n",
    "def get_scatter_plot(entered_site, entered_payload):\n",
    "    title_all = 'Correlation between Payload and Success for '\n",
    "    filtered_df = spacex_df[(spacex_df['Payload Mass (kg)'] > entered_payload[0]) & (spacex_df['Payload Mass (kg)'] < entered_payload[1])]\n",
    "    if entered_site == 'ALL':\n",
    "        fig = px.scatter(filtered_df, \n",
    "                         x='Payload Mass (kg)', \n",
    "                         y='class',\n",
    "                         color='Booster Version Category', \n",
    "                         title = title_all + 'all Sites' + ' and ' + str(entered_payload[0]))\n",
    "        return fig\n",
    "    else:\n",
    "        site_df = filtered_df[filtered_df['Launch Site']  == entered_site]\n",
    "        fig = px.scatter(site_df, \n",
    "                         x='Payload Mass (kg)', \n",
    "                         y='class',\n",
    "                         color='Booster Version Category', \n",
    "                         title = title_all + entered_site + ' and ' + str(entered_payload))\n",
    "        return fig\n",
    "    \n",
    "# Run app and display result inline in the notebook\n"
   ]
  },
  {
   "cell_type": "code",
   "execution_count": 8,
   "id": "930d4293-5735-4767-8842-2830f1e8765c",
   "metadata": {},
   "outputs": [
    {
     "name": "stdout",
     "output_type": "stream",
     "text": [
      "Dash app running on http://127.0.0.1:8050/\n"
     ]
    }
   ],
   "source": [
    "app.run_server(mode='external')"
   ]
  },
  {
   "cell_type": "code",
   "execution_count": null,
   "id": "a4763101-cebd-4ba4-8efb-efc4bbd7d65b",
   "metadata": {},
   "outputs": [],
   "source": []
  },
  {
   "cell_type": "code",
   "execution_count": null,
   "id": "b05d229d-4938-40dd-a7ef-6d705837ad98",
   "metadata": {},
   "outputs": [],
   "source": []
  },
  {
   "cell_type": "code",
   "execution_count": null,
   "id": "a4a3c0af-d347-414b-bf48-d7fc68edc8d4",
   "metadata": {},
   "outputs": [],
   "source": []
  }
 ],
 "metadata": {
  "kernelspec": {
   "display_name": "Python 3 (ipykernel)",
   "language": "python",
   "name": "python3"
  },
  "language_info": {
   "codemirror_mode": {
    "name": "ipython",
    "version": 3
   },
   "file_extension": ".py",
   "mimetype": "text/x-python",
   "name": "python",
   "nbconvert_exporter": "python",
   "pygments_lexer": "ipython3",
   "version": "3.11.0"
  },
  "toc-autonumbering": true,
  "toc-showcode": true,
  "toc-showmarkdowntxt": true
 },
 "nbformat": 4,
 "nbformat_minor": 5
}
