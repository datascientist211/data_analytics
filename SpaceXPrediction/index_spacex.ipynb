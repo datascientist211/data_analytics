{
 "cells": [
  {
   "cell_type": "markdown",
   "id": "ff9f5a43-f588-4597-8faa-af2103dfd86c",
   "metadata": {},
   "source": [
    "# SpaceX Falcon 9 First Stage Landing Prediction\n",
    "\n",
    "During my study for [IBM Data Science Specialization Certificate](https://www.coursera.org/account/accomplishments/specialization/certificate/X5EYE97D56VG) I was going through a data collecting, analyses and developing models for prediction if first stage of Falcon 9 will sucessfully landed. \n",
    "Here you can see this steps:\n",
    "\n",
    "1. [Collecting data using REST API](./jupyter-labs-spacex-data-collection-api.html)\n",
    "2. [Collecting data using webscrapping](./jupyter-labs-webscraping.html)\n",
    "3. [Data wrangling](./labs-jupyter-spacex-Data-wrangling.html)\n",
    "4. [Exploratory Data Analysis](./jupyter-labs-eda-dataviz.html)\n",
    "5. [Execute SQL queries to answer questions in data](./jupyter-labs-eda-sql-coursera.html)\n",
    "4. [Launch sites locations analysis with Folium (using map)](./lab_jupyter_launch_site_location.html)\n",
    "5. [Space X  Falcon 9 first stage landing prediction using different ML algorithms](./SpaceX_Machine_Learning_Prediction_Part_5.html)\n",
    "\n",
    "\n",
    "6. [Interactive dashboard (you nedd to launch it first in your local environment)](./Dashboard.html)\n",
    "\n"
   ]
  },
  {
   "cell_type": "code",
   "execution_count": null,
   "id": "8d860e8d-5f7c-4801-86d2-43e46c8dcb57",
   "metadata": {},
   "outputs": [],
   "source": []
  }
 ],
 "metadata": {
  "kernelspec": {
   "display_name": "Python 3 (ipykernel)",
   "language": "python",
   "name": "python3"
  },
  "language_info": {
   "codemirror_mode": {
    "name": "ipython",
    "version": 3
   },
   "file_extension": ".py",
   "mimetype": "text/x-python",
   "name": "python",
   "nbconvert_exporter": "python",
   "pygments_lexer": "ipython3",
   "version": "3.11.0"
  }
 },
 "nbformat": 4,
 "nbformat_minor": 5
}
