{
 "cells": [
  {
   "cell_type": "code",
   "execution_count": null,
   "id": "8cfc823c-0645-4acc-a4ef-fa80ff311394",
   "metadata": {},
   "outputs": [],
   "source": []
  },
  {
   "cell_type": "code",
   "execution_count": null,
   "id": "444b18eb-04c9-4902-9ce3-397e21b0b0b8",
   "metadata": {},
   "outputs": [],
   "source": [
    "import pandas as pd\n",
    "import numpy as np\n",
    "import matplotlib.pyplot as plt\n",
    "import seaborn as sns\n",
    "\n",
    "geo_data = pd.read_csv(\"data_from_wijkbuurtkaart.csv\") \n",
    "geo_data['buurtcode'] = geo_data['buurtcode'].astype(str).str.replace('BU0014', 'BU00')\n",
    "geo_data.head()"
   ]
  },
  {
   "cell_type": "code",
   "execution_count": null,
   "id": "d463fc02-1bec-42c3-9224-afe8b789e2b7",
   "metadata": {},
   "outputs": [],
   "source": [
    "def get_dogs_amount(row):\n",
    "    dogs_row = data[data['buurtcode'] == row['buurtcode']]\n",
    "    dogs = 0 if dogs_row.empty else dogs_row['dogs_amount'].iloc[0]\n",
    "    return dogs\n",
    "\n",
    "geo_data['dogs_amount'] = geo_data.apply(lambda row: get_dogs_amount(row), axis=1)\n",
    "geo_data.head()"
   ]
  },
  {
   "cell_type": "code",
   "execution_count": null,
   "id": "adb3330e-09d4-448a-8d91-d6cb8b6b4ed2",
   "metadata": {},
   "outputs": [],
   "source": [
    "\n",
    "# creating the bar plot\n",
    "plt.bar(geo_data['buurtnaam'], geo_data['dogs_amount'], color ='maroon',\n",
    "        width = 0.4)\n",
    " \n",
    "plt.xlabel(\"Neighbourhood\")\n",
    "plt.ylabel(\"Amount of gogs\")\n",
    "plt.title(\"Dogs in different neighbourhoods of Groningen\")\n",
    "plt.show()"
   ]
  },
  {
   "cell_type": "markdown",
   "id": "14b748f6-fbd9-4a79-bf85-f03f526d9510",
   "metadata": {},
   "source": [
    "We can see that only 3 neighbourhoods has more than 300 dogs. Let's see who live in this neighbourhoods and if the habitants have something in common"
   ]
  },
  {
   "cell_type": "code",
   "execution_count": null,
   "id": "562167ce-07ed-4848-a69e-88b33548bd4a",
   "metadata": {},
   "outputs": [],
   "source": [
    "dogs_lovers = geo_data[geo_data['dogs_amount']>300]\n",
    "print(dogs_lovers.shape)\n",
    "dogs_lovers.head()"
   ]
  },
  {
   "cell_type": "code",
   "execution_count": null,
   "id": "b2ec08f1-0caa-4d9d-ba9b-a4433e1df4b6",
   "metadata": {},
   "outputs": [],
   "source": [
    "print(dogs_lovers.columns)"
   ]
  },
  {
   "cell_type": "code",
   "execution_count": null,
   "id": "c68668be-5b69-44a9-9beb-a066c0b04569",
   "metadata": {},
   "outputs": [],
   "source": [
    "import matplotlib\n",
    "import matplotlib.pyplot as plt\n",
    "import numpy as np\n",
    "\n",
    "labels = dogs_lovers['buurtnaam'].tolist()\n",
    "tot_15 = dogs_lovers['percentage_personen_0_tot_15_jaar'].tolist()\n",
    "jaar_15_tot_25 = dogs_lovers['percentage_personen_15_tot_25_jaar'].tolist()\n",
    "jaar_25_tot_45 = dogs_lovers['percentage_personen_25_tot_45_jaar'].tolist()\n",
    "jaar_45_tot_65 = dogs_lovers['percentage_personen_45_tot_65_jaar'].tolist()\n",
    "jaar_65_en_ouder = dogs_lovers['percentage_personen_65_jaar_en_ouder'].tolist()\n",
    "\n",
    "\n",
    "x = np.arange(len(labels))  # the label locations\n",
    "width = 0.1  # the width of the bars\n",
    "\n",
    "fig, ax = plt.subplots()\n",
    "rects1 = ax.bar(x - 2*width, tot_15, width, label='0 to 15')\n",
    "rects2 = ax.bar(x - width, jaar_15_tot_25, width, label='15 to 25')\n",
    "rects3 = ax.bar(x, jaar_25_tot_45, width, label='25 to 45')\n",
    "rects4 = ax.bar(x + width, jaar_45_tot_65, width, label='45 to 65')\n",
    "rects5 = ax.bar(x + 2*width, jaar_65_en_ouder, width, label='65 and older')\n",
    "\n",
    "# Add some text for labels, title and custom x-axis tick labels, etc.\n",
    "ax.set_ylabel('Percentage')\n",
    "ax.set_title(\"Age of population in the areas where a lot of dogs\")\n",
    "ax.set_xticks(x)\n",
    "ax.set_xticklabels(labels)\n",
    "ax.legend()\n",
    "\n",
    "\n",
    "def autolabel(rects):\n",
    "    \"\"\"Attach a text label above each bar in *rects*, displaying its height.\"\"\"\n",
    "    for rect in rects:\n",
    "        height = rect.get_height()\n",
    "        ax.annotate('{}'.format(height),\n",
    "                    xy=(rect.get_x() + rect.get_width() / 2, height),\n",
    "                    xytext=(0, 3),  # 3 points vertical offset\n",
    "                    textcoords=\"offset points\",\n",
    "                    ha='center', va='bottom')\n",
    "\n",
    "autolabel(rects1)\n",
    "autolabel(rects2)\n",
    "autolabel(rects3)\n",
    "autolabel(rects4)\n",
    "autolabel(rects5)\n",
    "\n",
    "fig.tight_layout()\n",
    "\n",
    "plt.show()"
   ]
  },
  {
   "cell_type": "code",
   "execution_count": null,
   "id": "50cc3b33-65e0-4b82-906f-a6b7f52573f4",
   "metadata": {},
   "outputs": [],
   "source": [
    "import matplotlib\n",
    "import matplotlib.pyplot as plt\n",
    "import numpy as np\n",
    "\n",
    "labels = dogs_lovers['buurtnaam'].tolist()\n",
    "tot_15 = dogs_lovers['percentage_personen_0_tot_15_jaar'].tolist()\n",
    "jaar_15_tot_25 = dogs_lovers['percentage_personen_15_tot_25_jaar'].tolist()\n",
    "jaar_25_tot_45 = dogs_lovers['percentage_personen_25_tot_45_jaar'].tolist()\n",
    "jaar_45_tot_65 = dogs_lovers['percentage_personen_45_tot_65_jaar'].tolist()\n",
    "jaar_65_en_ouder = dogs_lovers['percentage_personen_65_jaar_en_ouder'].tolist()\n",
    "\n",
    "\n",
    "x = np.arange(len(labels))  # the label locations\n",
    "width = 0.1  # the width of the bars\n",
    "\n",
    "fig, ax = plt.subplots()\n",
    "rects1 = ax.bar(x - 2*width, tot_15, width, label='0 to 15')\n",
    "rects2 = ax.bar(x - width, jaar_15_tot_25, width, label='15 to 25')\n",
    "rects3 = ax.bar(x, jaar_25_tot_45, width, label='25 to 45')\n",
    "rects4 = ax.bar(x + width, jaar_45_tot_65, width, label='45 to 65')\n",
    "rects5 = ax.bar(x + 2*width, jaar_65_en_ouder, width, label='65 and older')\n",
    "\n",
    "# Add some text for labels, title and custom x-axis tick labels, etc.\n",
    "ax.set_ylabel('Percentage')\n",
    "ax.set_title(\"Age of population in the areas where a lot of dogs\")\n",
    "ax.set_xticks(x)\n",
    "ax.set_xticklabels(labels)\n",
    "ax.legend()\n",
    "\n",
    "\n",
    "def autolabel(rects):\n",
    "    \"\"\"Attach a text label above each bar in *rects*, displaying its height.\"\"\"\n",
    "    for rect in rects:\n",
    "        height = rect.get_height()\n",
    "        ax.annotate('{}'.format(height),\n",
    "                    xy=(rect.get_x() + rect.get_width() / 2, height),\n",
    "                    xytext=(0, 3),  # 3 points vertical offset\n",
    "                    textcoords=\"offset points\",\n",
    "                    ha='center', va='bottom')\n",
    "\n",
    "autolabel(rects1)\n",
    "autolabel(rects2)\n",
    "autolabel(rects3)\n",
    "autolabel(rects4)\n",
    "autolabel(rects5)\n",
    "\n",
    "fig.tight_layout()\n",
    "\n",
    "plt.show()\n"
   ]
  }
 ],
 "metadata": {
  "kernelspec": {
   "display_name": "Python 3 (ipykernel)",
   "language": "python",
   "name": "python3"
  },
  "language_info": {
   "codemirror_mode": {
    "name": "ipython",
    "version": 3
   },
   "file_extension": ".py",
   "mimetype": "text/x-python",
   "name": "python",
   "nbconvert_exporter": "python",
   "pygments_lexer": "ipython3",
   "version": "3.11.0"
  }
 },
 "nbformat": 4,
 "nbformat_minor": 5
}
